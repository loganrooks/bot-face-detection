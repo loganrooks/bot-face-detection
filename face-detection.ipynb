{
 "cells": [
  {
   "cell_type": "code",
   "execution_count": 1,
   "metadata": {},
   "outputs": [],
   "source": [
    "from face_client.face_client import FaceClient"
   ]
  },
  {
   "cell_type": "code",
   "execution_count": 2,
   "metadata": {},
   "outputs": [],
   "source": [
    "API_KEY = 'egk0ko9neatt4ftsgmhsmklf2r'\n",
    "API_SECRET = '67doedp6s4dcnm5kmuhkgetj8p'"
   ]
  },
  {
   "cell_type": "code",
   "execution_count": 3,
   "metadata": {},
   "outputs": [],
   "source": [
    "client = FaceClient(API_KEY, API_SECRET)"
   ]
  },
  {
   "cell_type": "code",
   "execution_count": null,
   "metadata": {},
   "outputs": [],
   "source": [
    "client.faces_recognize('all', 'http://farm1.static.flickr.com/41/104498903_bad315cee0.jpg', namespace = 'projectfaces')"
   ]
  },
  {
   "cell_type": "code",
   "execution_count": 4,
   "metadata": {},
   "outputs": [],
   "source": [
    "photos = 'https://image.ibb.co/eakyEc/logan1.jpg,https://image.ibb.co/dG9Enx/logan2.jpg,https://image.ibb.co/jYT77x/logan3.jpg,https://image.ibb.co/etBS7x/logan8.jpg,https://image.ibb.co/btd77x/logan0.jpg,https://image.ibb.co/j2kLSx/logan6.jpg,https://image.ibb.co/daBunx/logan4.jpg,https://image.ibb.co/j79Quc/logan5.jpg,https://image.ibb.co/cmow0H/logan7.jpg,https://image.ibb.co/nJeVSx/logan10.jpg,https://image.ibb.co/dHmoEc/logan9.jpg,https://image.ibb.co/bYboEc/logan12.jpg,https://image.ibb.co/eEsjnx/logan11.jpg,https://image.ibb.co/gdy1Zc/logan13.jpg,https://image.ibb.co/nuRzLH/logan14.jpg'\n",
    "test_photo = 'https://image.ibb.co/cN4rZc/logan15.jpg'"
   ]
  },
  {
   "cell_type": "code",
   "execution_count": null,
   "metadata": {},
   "outputs": [],
   "source": [
    "response = client.faces_detect(photos)\n",
    "tids = [photo['tags'][0]['tid'] for photo in response['photos']]"
   ]
  },
  {
   "cell_type": "code",
   "execution_count": null,
   "metadata": {},
   "outputs": [],
   "source": [
    "tids"
   ]
  },
  {
   "cell_type": "code",
   "execution_count": null,
   "metadata": {},
   "outputs": [],
   "source": [
    "client.tags_save(tids= ','.join(tids), uid = 'logan@projectfaces', label = 'Logan Rooks')"
   ]
  },
  {
   "cell_type": "code",
   "execution_count": null,
   "metadata": {},
   "outputs": [],
   "source": [
    "client.faces_train('logan@projectfaces')"
   ]
  },
  {
   "cell_type": "code",
   "execution_count": null,
   "metadata": {},
   "outputs": [],
   "source": [
    "results = client.faces_recognize('all', test_photo, namespace='projectfaces')"
   ]
  },
  {
   "cell_type": "code",
   "execution_count": null,
   "metadata": {},
   "outputs": [],
   "source": [
    "results"
   ]
  },
  {
   "cell_type": "code",
   "execution_count": 5,
   "metadata": {},
   "outputs": [
    {
     "name": "stdout",
     "output_type": "stream",
     "text": [
      "{'api_key': 'egk0ko9neatt4ftsgmhsmklf2r', 'api_secret': '67doedp6s4dcnm5kmuhkgetj8p', 'uids': 'all', 'attributes': 'gender,smiling,lips,eyes,age,mood', 'urls': 'https://image.ibb.co/cN4rZc/logan15.jpg', 'namespace': 'projectfaces'}\n"
     ]
    }
   ],
   "source": [
    "results = client.faces_recognize('all', test_photo, namespace='projectfaces')"
   ]
  },
  {
   "cell_type": "code",
   "execution_count": 7,
   "metadata": {},
   "outputs": [],
   "source": [
    "test_photos = 'https://image.ibb.co/ntZuLH/logan18.jpg,https://image.ibb.co/d0OAuc/logan17.jpg,https://image.ibb.co/hdziEc/logan16.jpg'"
   ]
  },
  {
   "cell_type": "code",
   "execution_count": 8,
   "metadata": {},
   "outputs": [
    {
     "name": "stdout",
     "output_type": "stream",
     "text": [
      "{'api_key': 'egk0ko9neatt4ftsgmhsmklf2r', 'api_secret': '67doedp6s4dcnm5kmuhkgetj8p', 'uids': 'all', 'attributes': 'all', 'urls': 'https://image.ibb.co/ntZuLH/logan18.jpg,https://image.ibb.co/d0OAuc/logan17.jpg,https://image.ibb.co/hdziEc/logan16.jpg', 'namespace': 'projectfaces'}\n"
     ]
    }
   ],
   "source": [
    "results = client.faces_recognize('all', test_photos, namespace='projectfaces')"
   ]
  },
  {
   "cell_type": "code",
   "execution_count": 37,
   "metadata": {},
   "outputs": [],
   "source": [
    "def extract_identity(uids, threshold):\n",
    "    max_confidence = 0\n",
    "    identity = None\n",
    "    for id_ in uids:\n",
    "        confidence = id_['confidence']\n",
    "        if confidence > threshold and confidence > max_confidence:\n",
    "            identity = id_['uid']\n",
    "            max_confidence = confidence\n",
    "    return identity"
   ]
  },
  {
   "cell_type": "code",
   "execution_count": 55,
   "metadata": {},
   "outputs": [],
   "source": [
    "metrics = ['gender', 'mood', 'smiling', 'eyes']\n",
    "faces = response['photos'][0]['tags']\n",
    "face_descriptions = []\n",
    "for face in faces:\n",
    "    attributes = face['attributes']\n",
    "    threshold = face['threshold']\n",
    "    if attributes['face']['confidence'] > threshold and attributes['face']['value'] == 'true': \n",
    "        description = {\n",
    "            'center': face['center'],\n",
    "            'identity': extract_identity(face['uids'], threshold),\n",
    "            **{metric: attributes[metric]['value'] if \\\n",
    "               attributes[metric]['confidence'] > threshold \\\n",
    "               else None for metric in metrics}\n",
    "            }\n",
    "        face_descriptions.append(description)"
   ]
  },
  {
   "cell_type": "code",
   "execution_count": 56,
   "metadata": {},
   "outputs": [
    {
     "data": {
      "text/plain": [
       "[{'center': {'x': 64.02, 'y': 60.8},\n",
       "  'eyes': 'open',\n",
       "  'gender': 'male',\n",
       "  'identity': None,\n",
       "  'mood': 'angry',\n",
       "  'smiling': 'true'},\n",
       " {'center': {'x': 26.19, 'y': 45.33},\n",
       "  'eyes': 'open',\n",
       "  'gender': None,\n",
       "  'identity': None,\n",
       "  'mood': 'surprised',\n",
       "  'smiling': None}]"
      ]
     },
     "execution_count": 56,
     "metadata": {},
     "output_type": "execute_result"
    }
   ],
   "source": [
    "face_descriptions"
   ]
  },
  {
   "cell_type": "code",
   "execution_count": 33,
   "metadata": {},
   "outputs": [],
   "source": [
    "multiple_faces = 'https://res.cloudinary.com/demo/image/upload/c_crop,g_faces,z_0.75/young_couple.jpg'"
   ]
  },
  {
   "cell_type": "code",
   "execution_count": 34,
   "metadata": {},
   "outputs": [
    {
     "name": "stdout",
     "output_type": "stream",
     "text": [
      "{'api_key': 'egk0ko9neatt4ftsgmhsmklf2r', 'api_secret': '67doedp6s4dcnm5kmuhkgetj8p', 'uids': 'all', 'attributes': 'all', 'urls': 'https://res.cloudinary.com/demo/image/upload/c_crop,g_faces,z_0.75/young_couple.jpg', 'namespace': 'projectfaces'}\n"
     ]
    }
   ],
   "source": [
    "response = client.faces_recognize('all', multiple_faces, namespace='projectfaces')"
   ]
  },
  {
   "cell_type": "code",
   "execution_count": 89,
   "metadata": {},
   "outputs": [],
   "source": [
    "rpi_addr = 'http://192.168.0.14/temp.jpg'"
   ]
  },
  {
   "cell_type": "code",
   "execution_count": 90,
   "metadata": {},
   "outputs": [
    {
     "name": "stdout",
     "output_type": "stream",
     "text": [
      "{'api_key': 'egk0ko9neatt4ftsgmhsmklf2r', 'api_secret': '67doedp6s4dcnm5kmuhkgetj8p', 'uids': 'all', 'attributes': 'all', 'urls': 'http://192.168.0.14/temp.jpg', 'namespace': 'projectfaces'}\n"
     ]
    },
    {
     "ename": "FaceError",
     "evalue": "DOWNLOAD_ERROR (30)",
     "traceback": [
      "\u001b[0;31m---------------------------------------------------------------------------\u001b[0m",
      "\u001b[0;31mFaceError\u001b[0m                                 Traceback (most recent call last)",
      "\u001b[0;32m<ipython-input-90-1934870674fb>\u001b[0m in \u001b[0;36m<module>\u001b[0;34m()\u001b[0m\n\u001b[0;32m----> 1\u001b[0;31m \u001b[0mresponse\u001b[0m \u001b[0;34m=\u001b[0m \u001b[0mclient\u001b[0m\u001b[0;34m.\u001b[0m\u001b[0mfaces_recognize\u001b[0m\u001b[0;34m(\u001b[0m\u001b[0;34m'all'\u001b[0m\u001b[0;34m,\u001b[0m \u001b[0mrpi_addr\u001b[0m\u001b[0;34m,\u001b[0m \u001b[0mnamespace\u001b[0m\u001b[0;34m=\u001b[0m\u001b[0;34m'projectfaces'\u001b[0m\u001b[0;34m)\u001b[0m\u001b[0;34m\u001b[0m\u001b[0m\n\u001b[0m",
      "\u001b[0;32m~/anaconda3/envs/deeplearning/lib/python3.6/site-packages/face_client/face_client.py\u001b[0m in \u001b[0;36mfaces_recognize\u001b[0;34m(self, uids, urls, file, buffer, aggressive, train, namespace, attributes)\u001b[0m\n\u001b[1;32m    156\u001b[0m         \u001b[0mself\u001b[0m\u001b[0;34m.\u001b[0m\u001b[0m__append_optional_arguments\u001b[0m\u001b[0;34m(\u001b[0m\u001b[0mdata\u001b[0m\u001b[0;34m,\u001b[0m \u001b[0mtrain\u001b[0m\u001b[0;34m=\u001b[0m\u001b[0mtrain\u001b[0m\u001b[0;34m,\u001b[0m \u001b[0mnamespace\u001b[0m\u001b[0;34m=\u001b[0m\u001b[0mnamespace\u001b[0m\u001b[0;34m)\u001b[0m\u001b[0;34m\u001b[0m\u001b[0m\n\u001b[1;32m    157\u001b[0m \u001b[0;34m\u001b[0m\u001b[0m\n\u001b[0;32m--> 158\u001b[0;31m         \u001b[0mresponse\u001b[0m \u001b[0;34m=\u001b[0m \u001b[0mself\u001b[0m\u001b[0;34m.\u001b[0m\u001b[0msend_request\u001b[0m\u001b[0;34m(\u001b[0m\u001b[0;34m'faces/recognize'\u001b[0m\u001b[0;34m,\u001b[0m \u001b[0mdata\u001b[0m\u001b[0;34m,\u001b[0m \u001b[0mfiles\u001b[0m\u001b[0;34m,\u001b[0m \u001b[0mbuffers\u001b[0m\u001b[0;34m)\u001b[0m\u001b[0;34m\u001b[0m\u001b[0m\n\u001b[0m\u001b[1;32m    159\u001b[0m         \u001b[0;32mreturn\u001b[0m \u001b[0mresponse\u001b[0m\u001b[0;34m\u001b[0m\u001b[0m\n\u001b[1;32m    160\u001b[0m \u001b[0;34m\u001b[0m\u001b[0m\n",
      "\u001b[0;32m~/anaconda3/envs/deeplearning/lib/python3.6/site-packages/face_client/face_client.py\u001b[0m in \u001b[0;36msend_request\u001b[0;34m(self, method, parameters, files, buffers)\u001b[0m\n\u001b[1;32m    385\u001b[0m \u001b[0;34m\u001b[0m\u001b[0m\n\u001b[1;32m    386\u001b[0m         \u001b[0;32mif\u001b[0m \u001b[0;34m'status'\u001b[0m \u001b[0;32min\u001b[0m \u001b[0mresponse_data\u001b[0m \u001b[0;32mand\u001b[0m \u001b[0mresponse_data\u001b[0m\u001b[0;34m[\u001b[0m\u001b[0;34m'status'\u001b[0m\u001b[0;34m]\u001b[0m \u001b[0;34m==\u001b[0m \u001b[0;34m'failure'\u001b[0m\u001b[0;34m:\u001b[0m\u001b[0;34m\u001b[0m\u001b[0m\n\u001b[0;32m--> 387\u001b[0;31m             \u001b[0;32mraise\u001b[0m \u001b[0mFaceError\u001b[0m\u001b[0;34m(\u001b[0m\u001b[0mresponse_data\u001b[0m\u001b[0;34m[\u001b[0m\u001b[0;34m'error_code'\u001b[0m\u001b[0;34m]\u001b[0m\u001b[0;34m,\u001b[0m \u001b[0mresponse_data\u001b[0m\u001b[0;34m[\u001b[0m\u001b[0;34m'error_message'\u001b[0m\u001b[0;34m]\u001b[0m\u001b[0;34m)\u001b[0m\u001b[0;34m\u001b[0m\u001b[0m\n\u001b[0m\u001b[1;32m    388\u001b[0m \u001b[0;34m\u001b[0m\u001b[0m\n\u001b[1;32m    389\u001b[0m         \u001b[0;32mreturn\u001b[0m \u001b[0mresponse_data\u001b[0m\u001b[0;34m\u001b[0m\u001b[0m\n",
      "\u001b[0;31mFaceError\u001b[0m: DOWNLOAD_ERROR (30)"
     ],
     "output_type": "error"
    }
   ],
   "source": [
    "response = client.faces_recognize('all', rpi_addr, namespace='projectfaces')"
   ]
  },
  {
   "cell_type": "code",
   "execution_count": null,
   "metadata": {},
   "outputs": [],
   "source": []
  }
 ],
 "metadata": {
  "kernelspec": {
   "display_name": "Python 3",
   "language": "python",
   "name": "python3"
  },
  "language_info": {
   "codemirror_mode": {
    "name": "ipython",
    "version": 3
   },
   "file_extension": ".py",
   "mimetype": "text/x-python",
   "name": "python",
   "nbconvert_exporter": "python",
   "pygments_lexer": "ipython3",
   "version": "3.6.4"
  }
 },
 "nbformat": 4,
 "nbformat_minor": 2
}
