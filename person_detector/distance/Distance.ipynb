{
 "cells": [
  {
   "cell_type": "code",
   "execution_count": 1,
   "metadata": {
    "collapsed": true
   },
   "outputs": [],
   "source": [
    "#7.5cm by 3cm\n",
    "# import the necessary packages\n",
    "from scipy.spatial import distance as dist\n",
    "#import numpy as np\n",
    "#import cv2\n",
    "from __future__ import print_function\n",
    "from imutils import perspective\n",
    "from imutils import contours\n",
    "import numpy as np\n",
    "import imutils\n",
    "import cv2\n",
    "import matplotlib.pyplot as plt\n",
    "%matplotlib inline"
   ]
  },
  {
   "cell_type": "markdown",
   "metadata": {},
   "source": [
    "Find percieved focal length\n",
    "\n",
    "F = (P* D)/W = percieved pixel wdith * distance / known width"
   ]
  },
  {
   "cell_type": "code",
   "execution_count": 2,
   "metadata": {
    "collapsed": true
   },
   "outputs": [],
   "source": [
    "#a more advanced edge filter\n",
    "def find_color_marker(image):\n",
    "    # convert the image to grayscale, blur it, and detect edges\n",
    "    gray = cv2.cvtColor(image, cv2.COLOR_BGR2GRAY)\n",
    "    gray = cv2.GaussianBlur(gray, (5, 5), 0)\n",
    "    edged = cv2.Canny(gray, 35, 125)\n",
    " \n",
    "    # find the contours in the edged image and keep the largest one;\n",
    "    # we'll assume that this is our piece of paper in the image\n",
    "    cnts, bounds, val = cv2.findContours(edged.copy(), cv2.RETR_LIST, cv2.CHAIN_APPROX_SIMPLE)\n",
    "    #print()\n",
    "    c = max(bounds, key = cv2.contourArea)\n",
    " \n",
    "\n",
    "    #should add a color check in here somewhere\n",
    "    \n",
    "    # compute the bounding box of the of the paper region and return it\n",
    "    return cv2.minAreaRect(c)"
   ]
  },
  {
   "cell_type": "code",
   "execution_count": 3,
   "metadata": {
    "collapsed": false
   },
   "outputs": [],
   "source": [
    "def find_marker(image):\n",
    "    # convert the image to grayscale, blur it, and detect edges\n",
    "    gray = cv2.cvtColor(image, cv2.COLOR_BGR2GRAY)\n",
    "    gray = cv2.GaussianBlur(gray, (5, 5), 0)\n",
    "    edged = cv2.Canny(gray, 35, 125)\n",
    " \n",
    "    # find the contours in the edged image and keep the largest one;\n",
    "    # we'll assume that this is our piece of paper in the image\n",
    "    cnts, bounds, val = cv2.findContours(edged.copy(), cv2.RETR_LIST, cv2.CHAIN_APPROX_SIMPLE)\n",
    "    #print()\n",
    "    c = max(bounds, key = cv2.contourArea)\n",
    " \n",
    "\n",
    "    #should add a color check in here somewhere\n",
    "    \n",
    "    # compute the bounding box of the of the paper region and return it\n",
    "    return cv2.minAreaRect(c)"
   ]
  },
  {
   "cell_type": "code",
   "execution_count": 4,
   "metadata": {
    "collapsed": true
   },
   "outputs": [],
   "source": [
    "def distance_to_camera(knownWidth, focalLength, perWidth):\n",
    "    # compute and return the distance from the maker to the camera\n",
    "    return (knownWidth * focalLength) / perWidth"
   ]
  },
  {
   "cell_type": "code",
   "execution_count": 5,
   "metadata": {
    "collapsed": false
   },
   "outputs": [
    {
     "name": "stdout",
     "output_type": "stream",
     "text": [
      "((252.8435516357422, 359.1502380371094), (53.64952087402344, 133.76913452148438), -1.847610354423523)\n"
     ]
    }
   ],
   "source": [
    "# initialize the known distance from the camera to the object, which\n",
    "# in this case is 24 inches\n",
    "KNOWN_DISTANCE = 30.0 # cm\n",
    " \n",
    "# initialize the known object width, which in this case, the piece of\n",
    "# paper is 11 inches wide\n",
    "KNOWN_WIDTH = 7.5 # cm\n",
    " \n",
    "# initialize the list of images that we'll be using\n",
    "IMAGE_PATHS = [\"post_it.jpg\", \"post_it2b.jpg\", \"post_it2a.jpg\", \"post_it3.jpg\", \"../color_distance_tracking/ref_image.jpg\"]\n",
    "\n",
    "# load the furst image that contains an object that is KNOWN TO BE 2 feet\n",
    "# from our camera, then find the paper marker in the image, and initialize\n",
    "# the focal length\n",
    "image = cv2.imread(IMAGE_PATHS[0])\n",
    "marker = find_marker(image)\n",
    "print(marker)\n",
    "focalLength = (marker[1][0] * KNOWN_DISTANCE) / KNOWN_WIDTH"
   ]
  },
  {
   "cell_type": "code",
   "execution_count": 8,
   "metadata": {
    "collapsed": false
   },
   "outputs": [
    {
     "name": "stdout",
     "output_type": "stream",
     "text": [
      "30.0 53.649520874\n",
      "17.122187513 94.0\n",
      "10.588117494 152.008666992\n",
      "9.5453536023 168.614562988\n",
      "122.899089902 13.095993042\n"
     ]
    }
   ],
   "source": [
    "# loop over the images\n",
    "for imagePath in IMAGE_PATHS:\n",
    "    # load the image, find the marker in the image, then compute the\n",
    "    # distance to the marker from the camera\n",
    "    image = cv2.imread(imagePath)\n",
    "    marker = find_marker(image)\n",
    "    inches = distance_to_camera(KNOWN_WIDTH, focalLength, marker[1][0])\n",
    " \n",
    "    # draw a bounding box around the image and display it\n",
    "    box = np.int0(cv2.cv2.boxPoints(marker))\n",
    "    cv2.drawContours(image, [box], -1, (0, 255, 0), 2)\n",
    "    cv2.putText(image, \"%.2fcm\" % (inches),\n",
    "        (image.shape[1] - 200, image.shape[0] - 20), cv2.FONT_HERSHEY_SIMPLEX,\n",
    "    2.0, (0, 255, 0), 3)\n",
    "    print(inches, marker[1][0])\n",
    "    cv2.imshow(\"image\", image)\n",
    "    cv2.waitKey(0)\n",
    "cv2.destroyAllWindows() "
   ]
  },
  {
   "cell_type": "code",
   "execution_count": 11,
   "metadata": {
    "collapsed": false
   },
   "outputs": [
    {
     "name": "stdout",
     "output_type": "stream",
     "text": [
      "((253.267822265625, 334.0061950683594), 49.24481964111328)\n"
     ]
    }
   ],
   "source": [
    "# initialize the known distance from the camera to the object, which\n",
    "# in this case is 24 inches\n",
    "KNOWN_DISTANCE = 30.0 # cm\n",
    " \n",
    "# initialize the known object width, which in this case, the piece of\n",
    "# paper is 11 inches wide\n",
    "KNOWN_WIDTH = 4.5 # cm\n",
    "image = cv2.imread(\"../masking_green/dark_green.jpg\")\n",
    "gray = cv2.cvtColor(image, cv2.COLOR_BGR2GRAY)\n",
    "gray = cv2.GaussianBlur(gray, (5, 5), 0)\n",
    "edged = cv2.Canny(gray, 35, 125)\n",
    "\n",
    "# find the contours in the edged image and keep the largest one;\n",
    "# we'll assume that this is our piece of paper in the image\n",
    "cnts, bounds, val = cv2.findContours(edged.copy(), cv2.RETR_LIST, cv2.CHAIN_APPROX_SIMPLE)\n",
    "#print()\n",
    "c = max(bounds, key = cv2.contourArea)\n",
    "\n",
    "print(cv2.minEnclosingCircle(c))\n",
    "#should add a color check in here somewhere\n",
    "\n",
    "# compute the bounding box of the of the paper region and return it\n",
    "#return cv2.minAreaRect(c)"
   ]
  },
  {
   "cell_type": "code",
   "execution_count": null,
   "metadata": {
    "collapsed": true
   },
   "outputs": [],
   "source": []
  }
 ],
 "metadata": {
  "anaconda-cloud": {},
  "kernelspec": {
   "display_name": "Python [default]",
   "language": "python",
   "name": "python2"
  },
  "language_info": {
   "codemirror_mode": {
    "name": "ipython",
    "version": 2
   },
   "file_extension": ".py",
   "mimetype": "text/x-python",
   "name": "python",
   "nbconvert_exporter": "python",
   "pygments_lexer": "ipython2",
   "version": "2.7.12"
  }
 },
 "nbformat": 4,
 "nbformat_minor": 1
}
