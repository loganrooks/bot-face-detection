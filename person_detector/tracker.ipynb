{
 "cells": [
  {
   "cell_type": "code",
   "execution_count": 1,
   "metadata": {},
   "outputs": [],
   "source": [
    "from collections import deque\n",
    "import numpy as np\n",
    "import argparse\n",
    "import imutils\n",
    "import cv2\n",
    "from picamera.array import PiRGBArray\n",
    "from picamera import PiCamera\n",
    "import time\n",
    "# construct the argument parse and parse the arguments\n",
    "#ap = argparse.ArgumentParser()\n",
    "#ap.add_argument(\"-v\", \"--video\",\n",
    "#    help=\"path to the (optional) video file\")\n",
    "#ap.add_argument(\"-b\", \"--buffer\", type=int, default=64,\n",
    "#    help=\"max buffer size\")\n",
    "#args = vars(ap.parse_args())"
   ]
  },
  {
   "cell_type": "code",
   "execution_count": 2,
   "metadata": {},
   "outputs": [],
   "source": [
    "# define the lower and upper boundaries of the \"green\"\n",
    "# ball in the HSV color space, then initialize the\n",
    "# list of tracked points\n",
    "greenLower = (29, 86, 6)\n",
    "greenUpper = (64, 255, 255)\n",
    " \n",
    "# if a video path was not supplied, grab the reference\n",
    "# to the webcam\n",
    "camera = PiCamera()\n",
    "camera.resolution = (640, 480)\n",
    "camera.framerate = 32\n",
    "rawCapture = PiRGBArray(camera, size=(640, 480))\n",
    " \n",
    "# allow the camera to warmup\n",
    "time.sleep(0.1)"
   ]
  },
  {
   "cell_type": "code",
   "execution_count": 3,
   "metadata": {},
   "outputs": [],
   "source": [
    "# capture frames from the camera\n",
    "for frame in camera.capture_continuous(rawCapture, format=\"bgr\", use_video_port=True):\n",
    "    # grab the raw NumPy array representing the image, then initialize the timestamp\n",
    "    # and occupied/unoccupied text\n",
    "    image = frame.array\n",
    "    \n",
    "    #resize frame, into hSV space\n",
    "    \n",
    "    \n",
    "    \n",
    "    # show the frame\n",
    "    cv2.imshow(\"Frame\", image)\n",
    "    key = cv2.waitKey(2) & 0xFF\n",
    "    \n",
    "    \n",
    "    #track_code\n",
    "    # resize the frame, blur it, and convert it to the HSV\n",
    "    # color space\n",
    "    frame = imutils.resize(image, width=600)\n",
    "    # blurred = cv2.GaussianBlur(frame, (11, 11), 0)\n",
    "    hsv = cv2.cvtColor(frame, cv2.COLOR_BGR2HSV)\n",
    " \n",
    "    # construct a mask for the color \"green\", then perform\n",
    "    # a series of dilations and erosions to remove any small\n",
    "    # blobs left in the mask\n",
    "    mask = cv2.inRange(hsv, greenLower, greenUpper)\n",
    "    mask = cv2.erode(mask, None, iterations=2)\n",
    "    mask = cv2.dilate(mask, None, iterations=2)\n",
    "    \n",
    "    # find contours in the mask and initialize the current\n",
    "    # (x, y) center of the ball\n",
    "    cnts = cv2.findContours(mask.copy(), cv2.RETR_EXTERNAL,\n",
    "        cv2.CHAIN_APPROX_SIMPLE)[-2]\n",
    "    center = None\n",
    " \n",
    "    # only proceed if at least one contour was found\n",
    "    if len(cnts) > 0:\n",
    "        # find the largest contour in the mask, then use\n",
    "        # it to compute the minimum enclosing circle and\n",
    "        # centroid\n",
    "        c = max(cnts, key=cv2.contourArea)\n",
    "        ((x, y), radius) = cv2.minEnclosingCircle(c)\n",
    "        M = cv2.moments(c)\n",
    "        center = (int(M[\"m10\"] / M[\"m00\"]), int(M[\"m01\"] / M[\"m00\"]))\n",
    " \n",
    "        # only proceed if the radius meets a minimum size\n",
    "        if radius > 5:\n",
    "            # draw the circle and centroid on the frame,\n",
    "            # then update the list of tracked points\n",
    "            cv2.circle(frame, (int(x), int(y)), int(radius),\n",
    "                (0, 255, 255), 2)\n",
    "            cv2.circle(frame, center, 5, (0, 0, 255), -1)\n",
    " \n",
    "    # update the points queue\n",
    "    #pts.appendleft(center)\n",
    "    \n",
    "    # clear the stream in preparation for the next frame\n",
    "    rawCapture.truncate(0)\n",
    " \n",
    "    #put in code to to find a gree ball\n",
    "     \n",
    "\n",
    "    # if the `q` key was pressed, break from the loop\n",
    "    if key == ord(\"q\"):\n",
    "        cv2.destroyAllWindows\n",
    "        break\n",
    "#camera.stop_recording()\n",
    "#camera.close()\n",
    "cv2.destroyAllWindows()"
   ]
  },
  {
   "cell_type": "code",
   "execution_count": 4,
   "metadata": {},
   "outputs": [
    {
     "name": "stdout",
     "output_type": "stream",
     "text": [
      "d\n"
     ]
    }
   ],
   "source": [
    "print(\"d\")"
   ]
  },
  {
   "cell_type": "code",
   "execution_count": null,
   "metadata": {},
   "outputs": [],
   "source": []
  }
 ],
 "metadata": {
  "kernelspec": {
   "display_name": "Python 2",
   "language": "python",
   "name": "python2"
  },
  "language_info": {
   "codemirror_mode": {
    "name": "ipython",
    "version": 2
   },
   "file_extension": ".py",
   "mimetype": "text/x-python",
   "name": "python",
   "nbconvert_exporter": "python",
   "pygments_lexer": "ipython2",
   "version": "2.7.13"
  }
 },
 "nbformat": 4,
 "nbformat_minor": 2
}
